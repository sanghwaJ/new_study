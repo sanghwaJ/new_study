{
 "cells": [
  {
   "cell_type": "code",
   "execution_count": 6,
   "metadata": {},
   "outputs": [
    {
     "name": "stdout",
     "output_type": "stream",
     "text": [
      "{'t', 'g', 'h', 'o', 'c'}\n",
      "{'t', 'g', 'd', 'o', 'c'}\n",
      "{'g', 'c', 'o', 'd'}\n"
     ]
    },
    {
     "data": {
      "text/plain": [
       "4"
      ]
     },
     "execution_count": 6,
     "metadata": {},
     "output_type": "execute_result"
    }
   ],
   "source": [
    "# 프로그래머스 - 단어 변환\n",
    "from collections import deque\n",
    "\n",
    "def solution(begin, target, words):\n",
    "    answer = 1\n",
    "    if target in words:\n",
    "        for word in words:\n",
    "            if word == target:\n",
    "                return answer\n",
    "            else:\n",
    "                if len(set(word + target)) == len(target) * 2 - 2:\n",
    "                    answer += 1\n",
    "                    return answer\n",
    "                else:\n",
    "                    answer += 1\n",
    "    else:\n",
    "        return 0\n",
    "    \n",
    "begin = \"hit\" \n",
    "target = \"cog\" \n",
    "words = [\"hot\", \"dot\", \"dog\", \"lot\", \"log\", \"cog\"]\n",
    "solution(begin, target, words)"
   ]
  }
 ],
 "metadata": {
  "kernelspec": {
   "display_name": "Python 3.10.4 64-bit",
   "language": "python",
   "name": "python3"
  },
  "language_info": {
   "codemirror_mode": {
    "name": "ipython",
    "version": 3
   },
   "file_extension": ".py",
   "mimetype": "text/x-python",
   "name": "python",
   "nbconvert_exporter": "python",
   "pygments_lexer": "ipython3",
   "version": "3.10.4"
  },
  "orig_nbformat": 4,
  "vscode": {
   "interpreter": {
    "hash": "c0b2826277f70c8b81eca58cc76ef4beaf0ee6e2891390eea03ebea5b2565483"
   }
  }
 },
 "nbformat": 4,
 "nbformat_minor": 2
}
