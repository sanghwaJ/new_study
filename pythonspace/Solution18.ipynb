{
 "cells": [
  {
   "cell_type": "code",
   "execution_count": 1,
   "metadata": {},
   "outputs": [
    {
     "data": {
      "text/plain": [
       "0"
      ]
     },
     "execution_count": 1,
     "metadata": {},
     "output_type": "execute_result"
    }
   ],
   "source": [
    "# kakao blind 5번\n",
    "\n",
    "def solution(commands):\n",
    "    answer = []\n",
    "    table = []\n",
    "    for i in range(50):\n",
    "        table.append([\"EMPTY\" for i in range(50)])\n",
    "\n",
    "    mergeList = []\n",
    "    for i in range(len(commands)):\n",
    "        divCommand = commands[i].split(\" \")\n",
    "\n",
    "        if divCommand[0] == \"UPDATE\":\n",
    "            if len(divCommand) > 3:\n",
    "                table[int(divCommand[1])][int(divCommand[2])] =  divCommand[3]\n",
    "            else:\n",
    "                for j in range(i):\n",
    "                    if divCommand[1] in commands[j]:\n",
    "                        _divCommand = commands[j].split(\" \")\n",
    "                        table[int(_divCommand[1])][int(_divCommand[2])] = divCommand[2]\n",
    "        if divCommand[0] == \"MERGE\":\n",
    "            mergeList.append([divCommand[1], divCommand[2], divCommand[3], divCommand[4]])\n",
    "            temp = table[int(divCommand[1])][int(divCommand[2])]\n",
    "            table[divCommand[3]][divCommand[4]] = temp\n",
    "        if divCommand[0] == \"UNMERGE\":\n",
    "            pass\n",
    "            #for mergeElement in mergeList:\n",
    "        if divCommand[0] == \"PRINT\":\n",
    "            answer.append(table[divCommand[1]][divCommand[2]])\n",
    "\n",
    "    #print(mergeList)\n",
    "    return answer"
   ]
  },
  {
   "cell_type": "code",
   "execution_count": null,
   "metadata": {},
   "outputs": [],
   "source": [
    "# result => [\"EMPTY\", \"group\"]\n",
    "commands = [\"UPDATE 1 1 menu\", \"UPDATE 1 2 category\", \"UPDATE 2 1 bibimbap\", \"UPDATE 2 2 korean\", \"UPDATE 2 3 rice\", \"UPDATE 3 1 ramyeon\", \"UPDATE 3 2 korean\", \"UPDATE 3 3 noodle\", \"UPDATE 3 4 instant\", \"UPDATE 4 1 pasta\", \"UPDATE 4 2 italian\", \"UPDATE 4 3 noodle\", \"MERGE 1 2 1 3\", \"MERGE 1 3 1 4\", \"UPDATE korean hansik\", \"UPDATE 1 3 group\", \"UNMERGE 1 4\", \"PRINT 1 3\", \"PRINT 1 4\"]\n",
    "\n",
    "# result => [\"d\", \"EMPTY\"]\n",
    "#commands = [\"UPDATE 1 1 a\", \"UPDATE 1 2 b\", \"UPDATE 2 1 c\", \"UPDATE 2 2 d\", \"MERGE 1 1 1 2\", \"MERGE 2 2 2 1\", \"MERGE 2 1 1 1\", \"PRINT 1 1\", \"UNMERGE 2 2\", \"PRINT 1 1\"]\n",
    "\n",
    "print(solution(commands))"
   ]
  }
 ],
 "metadata": {
  "kernelspec": {
   "display_name": "Python 3.9.13 64-bit",
   "language": "python",
   "name": "python3"
  },
  "language_info": {
   "codemirror_mode": {
    "name": "ipython",
    "version": 3
   },
   "file_extension": ".py",
   "mimetype": "text/x-python",
   "name": "python",
   "nbconvert_exporter": "python",
   "pygments_lexer": "ipython3",
   "version": "3.9.13"
  },
  "orig_nbformat": 4,
  "vscode": {
   "interpreter": {
    "hash": "b0fa6594d8f4cbf19f97940f81e996739fb7646882a419484c72d19e05852a7e"
   }
  }
 },
 "nbformat": 4,
 "nbformat_minor": 2
}
