{
 "cells": [
  {
   "cell_type": "code",
   "execution_count": 1,
   "metadata": {},
   "outputs": [
    {
     "data": {
      "text/plain": [
       "0"
      ]
     },
     "execution_count": 1,
     "metadata": {},
     "output_type": "execute_result"
    }
   ],
   "source": [
    "# Codility - Nesting\n",
    "# -> 개발중...\n",
    "def solution(A):\n",
    "    # write your code in Python 3.6\n",
    "    if len(S) < 2:\n",
    "        return 0\n",
    "\n",
    "    if S[0] == \")\":\n",
    "        return 0\n",
    "    \n",
    "    if S[-1] == \"(\":\n",
    "        return 0\n",
    "\n",
    "    stack = []\n",
    "    \n",
    "    for i in range(len(S)):\n",
    "        stack.append(S[i])\n",
    "        \n",
    "        pass\n",
    "    \n",
    "S = \"(()(())())\"\n",
    "solution(S)"
   ]
  }
 ],
 "metadata": {
  "kernelspec": {
   "display_name": "Python 3.9.13 64-bit",
   "language": "python",
   "name": "python3"
  },
  "language_info": {
   "codemirror_mode": {
    "name": "ipython",
    "version": 3
   },
   "file_extension": ".py",
   "mimetype": "text/x-python",
   "name": "python",
   "nbconvert_exporter": "python",
   "pygments_lexer": "ipython3",
   "version": "3.9.13"
  },
  "orig_nbformat": 4,
  "vscode": {
   "interpreter": {
    "hash": "b0fa6594d8f4cbf19f97940f81e996739fb7646882a419484c72d19e05852a7e"
   }
  }
 },
 "nbformat": 4,
 "nbformat_minor": 2
}
