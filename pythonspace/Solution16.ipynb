{
 "cells": [
  {
   "cell_type": "code",
   "execution_count": 37,
   "metadata": {},
   "outputs": [
    {
     "name": "stdout",
     "output_type": "stream",
     "text": [
      "0\n",
      "1\n",
      "20\n"
     ]
    }
   ],
   "source": [
    "# Codility - TapeEquilibrium\n",
    "def solution(A):\n",
    "    # write your code in Python 3.6\n",
    "    start = A[0]\n",
    "    end = sum(A[1:])\n",
    "    answer = abs(start - end)\n",
    "    \n",
    "    for i in range(1, len(A)-1):\n",
    "        start += A[i]\n",
    "        end -= A[i]\n",
    "        answer = min(answer, abs(start - end))\n",
    "\n",
    "    return answer\n",
    "\n",
    "print(solution([1,2,3,4,10]))\n",
    "print(solution([-1,-2]))\n",
    "print(solution([-10, -20, -30, -40, 100]))"
   ]
  },
  {
   "cell_type": "code",
   "execution_count": 36,
   "metadata": {},
   "outputs": [],
   "source": [
    "def solution(A):\n",
    "    start = 0\n",
    "    end = sum(A)\n",
    "    answer = None\n",
    "    \n",
    "    for i in range(0, len(A)-1):\n",
    "        start += A[i]\n",
    "        end -= A[i]\n",
    "        if answer == None:\n",
    "            answer = abs(start - end)\n",
    "        else:\n",
    "            answer = min(answer, abs(start - end))\n",
    "\n",
    "    return answer"
   ]
  }
 ],
 "metadata": {
  "kernelspec": {
   "display_name": "Python 3.9.13 64-bit",
   "language": "python",
   "name": "python3"
  },
  "language_info": {
   "codemirror_mode": {
    "name": "ipython",
    "version": 3
   },
   "file_extension": ".py",
   "mimetype": "text/x-python",
   "name": "python",
   "nbconvert_exporter": "python",
   "pygments_lexer": "ipython3",
   "version": "3.9.13"
  },
  "orig_nbformat": 4,
  "vscode": {
   "interpreter": {
    "hash": "b0fa6594d8f4cbf19f97940f81e996739fb7646882a419484c72d19e05852a7e"
   }
  }
 },
 "nbformat": 4,
 "nbformat_minor": 2
}
